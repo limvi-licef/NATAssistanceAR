{
 "cells": [
  {
   "cell_type": "markdown",
   "metadata": {},
   "source": [
    "-------------------------\n",
    "### Author: Anthony Melin\n",
    "### Date: 2020 January 11\n",
    "-------------------------"
   ]
  },
  {
   "cell_type": "markdown",
   "metadata": {},
   "source": [
    "# Import"
   ]
  },
  {
   "cell_type": "code",
   "execution_count": 1,
   "metadata": {},
   "outputs": [],
   "source": [
    "from RemoteCam.RemoteCam import RemoteCam\n",
    "from Tensorflow.ObjectDetection import *\n",
    "from Tensorflow.ObjectDetector import ObjectDetector\n",
    "\n",
    "from Scenario.Base2D import BaseScenario2D\n",
    "\n",
    "import cv2\n",
    "import sys\n",
    "import numpy as np"
   ]
  },
  {
   "cell_type": "markdown",
   "metadata": {},
   "source": [
    "# Global variables\n",
    "## Model files and classes"
   ]
  },
  {
   "cell_type": "code",
   "execution_count": 2,
   "metadata": {},
   "outputs": [],
   "source": [
    "# MODEL_DIRECTORY = \"MODEL_DIRECTORY\"\n",
    "MODEL_DIRECTORY = MODEL_DIRECTORY = os.path.join(os.path.abspath(''),\"../ModelsForNAT/model_3\")\n",
    "\n",
    "GRAPH = MODEL_DIRECTORY + \"/frozen_inference_graph.pb\"\n",
    "LABELS = MODEL_DIRECTORY + \"/labelmap.pbtxt\"\n",
    "NUM_CLASSES = 7"
   ]
  },
  {
   "cell_type": "markdown",
   "metadata": {},
   "source": [
    "## Scenario"
   ]
  },
  {
   "cell_type": "code",
   "execution_count": 3,
   "metadata": {},
   "outputs": [],
   "source": [
    "scenario = BaseScenario2D()"
   ]
  },
  {
   "cell_type": "markdown",
   "metadata": {},
   "source": [
    "# Object detection configuration"
   ]
  },
  {
   "cell_type": "markdown",
   "metadata": {},
   "source": [
    "### Load model"
   ]
  },
  {
   "cell_type": "code",
   "execution_count": 4,
   "metadata": {},
   "outputs": [],
   "source": [
    "category_index = load_categories(LABELS, NUM_CLASSES)\n",
    "sess, inputs, outputs = load_model(GRAPH)"
   ]
  },
  {
   "cell_type": "markdown",
   "metadata": {},
   "source": [
    "### Set frame detector"
   ]
  },
  {
   "cell_type": "code",
   "execution_count": 5,
   "metadata": {},
   "outputs": [],
   "source": [
    "detector = ObjectDetector(sess, inputs, outputs, category_index)\n",
    "detector.SetThreshold(60)\n",
    "detector.draw = True"
   ]
  },
  {
   "cell_type": "markdown",
   "metadata": {},
   "source": [
    "# Loop"
   ]
  },
  {
   "cell_type": "code",
   "execution_count": null,
   "metadata": {},
   "outputs": [],
   "source": [
    "camera = RemoteCam(10000, 3)\n",
    "\n",
    "while True:\n",
    "\n",
    "    # frame\n",
    "    frame = camera.getFrame()\n",
    "    \n",
    "    if frame.shape == (720, 1280, 3):\n",
    "        \n",
    "        # detection\n",
    "        detected = detector.Detect(frame)\n",
    "        scenario.Update(detected, frame)\n",
    "    \n",
    "    # display\n",
    "    cv2.imshow(\"frame\", frame)\n",
    "    if cv2.waitKey(1) == ord('q'): break\n",
    "\n",
    "cv2.destroyAllWindows()\n",
    "camera.close()"
   ]
  },
  {
   "cell_type": "code",
   "execution_count": null,
   "metadata": {},
   "outputs": [],
   "source": []
  }
 ],
 "metadata": {
  "kernelspec": {
   "display_name": "Python 3",
   "language": "python",
   "name": "python3"
  },
  "language_info": {
   "codemirror_mode": {
    "name": "ipython",
    "version": 3
   },
   "file_extension": ".py",
   "mimetype": "text/x-python",
   "name": "python",
   "nbconvert_exporter": "python",
   "pygments_lexer": "ipython3",
   "version": "3.8.8"
  }
 },
 "nbformat": 4,
 "nbformat_minor": 4
}
