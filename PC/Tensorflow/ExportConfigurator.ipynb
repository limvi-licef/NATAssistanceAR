{
 "cells": [
  {
   "cell_type": "markdown",
   "metadata": {},
   "source": [
    "-------------------------\n",
    "### Author: Anthony Melin\n",
    "### Date: 2019 August 14\n",
    "-------------------------"
   ]
  },
  {
   "cell_type": "markdown",
   "metadata": {},
   "source": [
    "# Import"
   ]
  },
  {
   "cell_type": "code",
   "execution_count": null,
   "metadata": {},
   "outputs": [],
   "source": [
    "import os\n",
    "from shutil import copyfile\n",
    "\n",
    "from ObjectDetection import *"
   ]
  },
  {
   "cell_type": "markdown",
   "metadata": {},
   "source": [
    "# Functions"
   ]
  },
  {
   "cell_type": "code",
   "execution_count": null,
   "metadata": {},
   "outputs": [],
   "source": [
    "########################################################################################\n",
    "def add_export_module(path):\n",
    "    \n",
    "    EXPORT_SCRIPT_SRC = os.path.join(object_detection_path(), \"export_inference_graph.py\")\n",
    "    EXPORT_SCRIPT_DST = os.path.join(path, \"export_inference_graph.py\")\n",
    "    \n",
    "    with open(EXPORT_SCRIPT_DST, \"w\") as dst:\n",
    "        dst.write(\"from ObjectDetection import *\\n\")\n",
    "        \n",
    "        # open read only\n",
    "        with open(EXPORT_SCRIPT_SRC, \"r\") as src:\n",
    "            dst.write(src.read())\n",
    "            \n",
    "########################################################################################\n",
    "def gen_export_bat(work_dir, config_path):\n",
    "    \n",
    "    BAT_FILE = os.path.join(work_dir, \"export.bat\")\n",
    "    TRAIN_SCRIPT_PATH = os.path.join(object_detection_path(), \"legacy\", \"train.py\")\n",
    "\n",
    "    \n",
    "    CMD = \"python export_inference_graph.py \"\n",
    "    CMD += \"--input_type image_tensor \"\n",
    "    CMD += \"--pipeline_config_path {} \"\n",
    "    CMD += \"--trained_checkpoint_prefix training/model.ckpt-XXXX \"\n",
    "    CMD += \"--output_directory export\"\n",
    "    \n",
    "    CMD = CMD.format(config_path)\n",
    "    with open(BAT_FILE, \"w\") as file: file.write(CMD)"
   ]
  },
  {
   "cell_type": "markdown",
   "metadata": {},
   "source": [
    "# Variables"
   ]
  },
  {
   "cell_type": "code",
   "execution_count": null,
   "metadata": {},
   "outputs": [],
   "source": [
    "WORK_DIR = \"WORK_DIR\"\n",
    "CONFIG_FILE = \"CONFIG_FILE\"\n",
    "\n",
    "TRAINING_DIR = os.path.join(WORK_DIR, \"training\")\n",
    "CONFIG_DST = os.path.join(TRAINING_DIR, CONFIG_FILE)\n",
    "\n",
    "EXPORT_DIR = os.path.join(WORK_DIR, \"export\")\n",
    "\n",
    "LABELMAP_SRC = os.path.join(TRAINING_DIR, \"train.pbtxt\")\n",
    "LABELMAP_DST = os.path.join(EXPORT_DIR, \"labelmap.pbtxt\")"
   ]
  },
  {
   "cell_type": "markdown",
   "metadata": {},
   "source": [
    "# Build files"
   ]
  },
  {
   "cell_type": "code",
   "execution_count": null,
   "metadata": {},
   "outputs": [],
   "source": [
    "add_export_module(WORK_DIR)\n",
    "gen_export_bat(WORK_DIR, CONFIG_DST)"
   ]
  },
  {
   "cell_type": "markdown",
   "metadata": {},
   "source": [
    "# Add labelmap"
   ]
  },
  {
   "cell_type": "code",
   "execution_count": null,
   "metadata": {},
   "outputs": [],
   "source": [
    "copyfile(LABELMAP_SRC, LABELMAP_DST)"
   ]
  }
 ],
 "metadata": {
  "kernelspec": {
   "display_name": "Python [conda env:tfgpu]",
   "language": "python",
   "name": "conda-env-tfgpu-py"
  },
  "language_info": {
   "codemirror_mode": {
    "name": "ipython",
    "version": 3
   },
   "file_extension": ".py",
   "mimetype": "text/x-python",
   "name": "python",
   "nbconvert_exporter": "python",
   "pygments_lexer": "ipython3",
   "version": "3.6.8"
  }
 },
 "nbformat": 4,
 "nbformat_minor": 2
}
