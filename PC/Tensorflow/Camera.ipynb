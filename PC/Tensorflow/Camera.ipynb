{
 "cells": [
  {
   "cell_type": "markdown",
   "metadata": {},
   "source": [
    "-------------------------\n",
    "### Author: Anthony Melin\n",
    "### Date: 2019 August 14\n",
    "-------------------------"
   ]
  },
  {
   "cell_type": "markdown",
   "metadata": {},
   "source": [
    "# Global variables"
   ]
  },
  {
   "cell_type": "code",
   "execution_count": null,
   "metadata": {},
   "outputs": [],
   "source": [
    "MODEL_DIRECTORY = \"MODEL_DIRECTORY\"\n",
    "\n",
    "GRAPH = MODEL_DIRECTORY + \"/frozen_inference_graph.pb\"\n",
    "LABELS = MODEL_DIRECTORY + \"/labelmap.pbtxt\"\n",
    "NUM_CLASSES = 99"
   ]
  },
  {
   "cell_type": "markdown",
   "metadata": {},
   "source": [
    "# Import module"
   ]
  },
  {
   "cell_type": "code",
   "execution_count": null,
   "metadata": {},
   "outputs": [],
   "source": [
    "from ObjectDetection import *"
   ]
  },
  {
   "cell_type": "markdown",
   "metadata": {},
   "source": [
    "# Load model and its labelmap"
   ]
  },
  {
   "cell_type": "code",
   "execution_count": null,
   "metadata": {},
   "outputs": [],
   "source": [
    "category_index = load_categories(LABELS, NUM_CLASSES)\n",
    "sess, inputs, outputs = load_model(GRAPH)"
   ]
  },
  {
   "cell_type": "markdown",
   "metadata": {},
   "source": [
    "# Run"
   ]
  },
  {
   "cell_type": "code",
   "execution_count": null,
   "metadata": {},
   "outputs": [],
   "source": [
    "import cv2\n",
    "import numpy as np\n",
    "\n",
    "video = cv2.VideoCapture(0)\n",
    "if not video.isOpened(): raise BaseException(\"Camera not found\")\n",
    "\n",
    "while(True):\n",
    "\n",
    "    ret, frame = video.read()\n",
    "    frame_expanded = np.expand_dims(frame, axis=0)\n",
    "    (boxes, scores, classes, num) = sess.run(outputs, feed_dict={inputs: frame_expanded})\n",
    "    draw_bounding_boxes(frame, boxes, classes, scores, category_index, 0.65, 4)\n",
    "\n",
    "    cv2.imshow('Object detector', frame)\n",
    "    if cv2.waitKey(1) == ord('q'): break\n",
    "\n",
    "video.release()\n",
    "cv2.destroyAllWindows()"
   ]
  }
 ],
 "metadata": {
  "kernelspec": {
   "display_name": "Python [conda env:tfgpu]",
   "language": "python",
   "name": "conda-env-tfgpu-py"
  },
  "language_info": {
   "codemirror_mode": {
    "name": "ipython",
    "version": 3
   },
   "file_extension": ".py",
   "mimetype": "text/x-python",
   "name": "python",
   "nbconvert_exporter": "python",
   "pygments_lexer": "ipython3",
   "version": "3.6.8"
  }
 },
 "nbformat": 4,
 "nbformat_minor": 2
}
