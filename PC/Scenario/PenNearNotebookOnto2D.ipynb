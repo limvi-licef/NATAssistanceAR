{
 "cells": [
  {
   "cell_type": "markdown",
   "metadata": {},
   "source": [
    "# Ontology diagram\n",
    "\n",
    "![diagram](../Ontology/PenNearNotebook.jpg)"
   ]
  },
  {
   "cell_type": "markdown",
   "metadata": {},
   "source": [
    "# Loading\n",
    "\n",
    "Made in \"load\" method in [PenNearNotebookOnto2D.py at line 27](PenNearNotebookOnto2D.py#L27).\n",
    "\n",
    "```\n",
    "def LoadOnto(self, file):\n",
    "\n",
    "    self.onto = owl.get_ontology(file)\n",
    "    self.onto.load()\n",
    "```\n",
    "\n",
    "For the following demonstrations, a scenario is loaded."
   ]
  },
  {
   "cell_type": "code",
   "execution_count": 1,
   "metadata": {},
   "outputs": [
    {
     "name": "stderr",
     "output_type": "stream",
     "text": [
      "* Owlready2 * Warning: optimized Cython parser module 'owlready2_optimized' is not available, defaulting to slower Python implementation\n"
     ]
    }
   ],
   "source": [
    "from PenNearNotebookOnto2D import PenNearNotebookOnto2D\n",
    "\n",
    "scenario = PenNearNotebookOnto2D()\n",
    "scenario.LoadOnto(\"../Ontology/PenNearNotebook.owl\")"
   ]
  },
  {
   "cell_type": "markdown",
   "metadata": {},
   "source": [
    "After these steps, the onto attributes represent the ontology and classes or objects inside could be called. There is 2 way : attribute or hashmap."
   ]
  },
  {
   "cell_type": "code",
   "execution_count": 2,
   "metadata": {},
   "outputs": [
    {
     "data": {
      "text/plain": [
       "PenNearNotebook.Pen"
      ]
     },
     "execution_count": 2,
     "metadata": {},
     "output_type": "execute_result"
    }
   ],
   "source": [
    "# attribute way\n",
    "scenario.onto.Pen"
   ]
  },
  {
   "cell_type": "code",
   "execution_count": 4,
   "metadata": {},
   "outputs": [
    {
     "data": {
      "text/plain": [
       "PenNearNotebook.Pen"
      ]
     },
     "execution_count": 4,
     "metadata": {},
     "output_type": "execute_result"
    }
   ],
   "source": [
    "# hashmap way\n",
    "scenario.onto[\"Pen\"]"
   ]
  },
  {
   "cell_type": "markdown",
   "metadata": {},
   "source": [
    "# Link between object detection and ontology\n",
    "\n",
    "As detected objects are identified by a string, classes should be called with hashmap method. Moreover, if requested class is not in the ontology, it returns *None*.\n",
    "\n",
    "So, assuming that *detected* is a dict containing detected objects, you could check those belonging to the ontology :"
   ]
  },
  {
   "cell_type": "code",
   "execution_count": 5,
   "metadata": {},
   "outputs": [
    {
     "name": "stdout",
     "output_type": "stream",
     "text": [
      "Pen is in ontology\n",
      "Notebook is in ontology\n",
      "Pencil is not in ontology\n"
     ]
    }
   ],
   "source": [
    "detected = {\n",
    "    \"Pen\" : [0,0],\n",
    "    \"Notebook\" : [0,0],\n",
    "    \"Pencil\" : [0,0]\n",
    "}\n",
    "\n",
    "for object_name, object_position in detected.items():\n",
    "    \n",
    "    if scenario.onto[object_name] != None:\n",
    "        print(object_name, \"is in ontology\")\n",
    "    else:\n",
    "        print(object_name, \"is not in ontology\")\n",
    "        "
   ]
  },
  {
   "cell_type": "markdown",
   "metadata": {},
   "source": [
    "# Properties\n",
    "\n",
    "In the ontology, Pen and Notebook have a property called \"nextTo\" indicating wich objects could be placed near. A property is readable like an attribute and return an array containing classes."
   ]
  },
  {
   "cell_type": "code",
   "execution_count": 11,
   "metadata": {},
   "outputs": [
    {
     "data": {
      "text/plain": [
       "[PenNearNotebook.Notebook]"
      ]
     },
     "execution_count": 11,
     "metadata": {},
     "output_type": "execute_result"
    }
   ],
   "source": [
    "scenario.onto[\"Pen\"].nextTo"
   ]
  },
  {
   "cell_type": "code",
   "execution_count": 12,
   "metadata": {},
   "outputs": [
    {
     "data": {
      "text/plain": [
       "[PenNearNotebook.Pen]"
      ]
     },
     "execution_count": 12,
     "metadata": {},
     "output_type": "execute_result"
    }
   ],
   "source": [
    "scenario.onto[\"Notebook\"].nextTo"
   ]
  },
  {
   "cell_type": "markdown",
   "metadata": {},
   "source": [
    "In natural language, these results means :\n",
    "\n",
    "* A pen could be next to a notebook\n",
    "\n",
    "* A notebook could be next to a pen\n",
    "\n",
    "*Note : you could parse the classes you get in arrays using **name** attribute*"
   ]
  },
  {
   "cell_type": "markdown",
   "metadata": {},
   "source": [
    "# Automatisation of process\n",
    "\n",
    "To summarize what we seen :\n",
    "\n",
    "* If a class is requested to an ontology, it is returned otherwise *None* is returned.\n",
    "\n",
    "* Properties of classes are like attributes and return array of other classes.\n",
    "\n",
    "The goal is to test check if known objects are near each other. For that, here is likely approach :\n",
    "\n",
    "```\n",
    "for each detected object\n",
    "    if this object is inside the ontology then\n",
    "        for each class in property nextTo\n",
    "            if this class is inside the ontology\n",
    "                check distance between object and class \n",
    "```\n",
    "\n",
    "This is what is implemented in Action method in [PenNearNotebookOnto2D.py at line 35](PenNearNotebookOnto2D.py#L35).\n"
   ]
  }
 ],
 "metadata": {
  "kernelspec": {
   "display_name": "tfgpu",
   "language": "python",
   "name": "tfgpu"
  },
  "language_info": {
   "codemirror_mode": {
    "name": "ipython",
    "version": 3
   },
   "file_extension": ".py",
   "mimetype": "text/x-python",
   "name": "python",
   "nbconvert_exporter": "python",
   "pygments_lexer": "ipython3",
   "version": "3.6.9"
  }
 },
 "nbformat": 4,
 "nbformat_minor": 4
}
