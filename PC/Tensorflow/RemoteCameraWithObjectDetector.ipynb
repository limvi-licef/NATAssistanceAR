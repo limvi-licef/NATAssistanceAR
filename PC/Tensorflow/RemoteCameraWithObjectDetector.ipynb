{
 "cells": [
  {
   "cell_type": "markdown",
   "metadata": {},
   "source": [
    "-------------------------\n",
    "### Author: Anthony Melin\n",
    "### Date: 2019 August 14\n",
    "-------------------------"
   ]
  },
  {
   "cell_type": "markdown",
   "metadata": {},
   "source": [
    "# Global variables"
   ]
  },
  {
   "cell_type": "code",
   "execution_count": null,
   "metadata": {},
   "outputs": [],
    "source": [
      "MODEL_DIRECTORY = \"MODEL_DIRECTORY\"\n",
      "\n",
      "GRAPH = MODEL_DIRECTORY + \"/frozen_inference_graph.pb\"\n",
      "LABELS = MODEL_DIRECTORY + \"/labelmap.pbtxt\"\n",
      "NUM_CLASSES = 1000"
    ]
  },
  {
   "cell_type": "markdown",
   "metadata": {},
   "source": [
    "# Import module"
   ]
  },
  {
   "cell_type": "code",
   "execution_count": null,
   "metadata": {},
   "outputs": [],
   "source": [
    "from ObjectDetection import *\n",
    "from ObjectDetector import ObjectDetector"
   ]
  },
  {
   "cell_type": "markdown",
   "metadata": {},
   "source": [
    "# Load model"
   ]
  },
  {
   "cell_type": "code",
   "execution_count": null,
   "metadata": {},
   "outputs": [],
   "source": [
    "category_index = load_categories(LABELS, NUM_CLASSES)\n",
    "sess, inputs, outputs = load_model(GRAPH)"
   ]
  },
  {
   "cell_type": "markdown",
   "metadata": {},
   "source": [
    "# Set frame detector"
   ]
  },
  {
   "cell_type": "code",
   "execution_count": null,
   "metadata": {},
   "outputs": [],
   "source": [
    "detector = ObjectDetector(sess, inputs, outputs, category_index)\n",
    "detector.SetThreshold(60)\n",
    "detector.draw = True"
   ]
  },
  {
   "cell_type": "markdown",
   "metadata": {},
   "source": [
    "# Loop"
   ]
  },
  {
   "cell_type": "code",
   "execution_count": null,
   "metadata": {},
   "outputs": [],
   "source": [
    "import cv2\n",
    "import numpy as np\n",
    "\n",
    "frame = cv2.resize(cv2.imread(\"im.jpg\"), (1280, 720))\n",
    "\n",
    "detected = detector.Detect(frame)\n",
    "\n",
    "cv2.imshow('Object detector', frame)\n",
    "cv2.waitKey(0)\n",
    "\n",
    "cv2.destroyAllWindows()"
   ]
  },
  {
   "cell_type": "code",
   "execution_count": null,
   "metadata": {},
   "outputs": [],
   "source": [
    "import cv2\n",
    "import numpy as np\n",
    "import time\n",
    "\n",
    "from RemoteCam import RemoteCam\n",
    "\n",
    "\n",
    "video = RemoteCam(10000, 3)\n",
    "\n",
    "while(True):\n",
    "\n",
    "    frame = video.getFrame()\n",
    "    \n",
    "    if frame.shape == (720, 1280, 3):\n",
    "        detected = detector.Detect(frame)\n",
    "        \n",
    "    cv2.imshow('Object detector', frame)\n",
    "    if cv2.waitKey(1) == ord('q'): break\n",
    "\n",
    "        \n",
    "video.close()\n",
    "cv2.destroyAllWindows()"
   ]
  },
  {
   "cell_type": "code",
   "execution_count": null,
   "metadata": {},
   "outputs": [],
   "source": [
    "video.close()"
   ]
  }
 ],
 "metadata": {
  "kernelspec": {
   "display_name": "tfgpu",
   "language": "python",
   "name": "tfgpu"
  },
  "language_info": {
   "codemirror_mode": {
    "name": "ipython",
    "version": 3
   },
   "file_extension": ".py",
   "mimetype": "text/x-python",
   "name": "python",
   "nbconvert_exporter": "python",
   "pygments_lexer": "ipython3",
   "version": "3.6.9"
  }
 },
 "nbformat": 4,
 "nbformat_minor": 4
}
