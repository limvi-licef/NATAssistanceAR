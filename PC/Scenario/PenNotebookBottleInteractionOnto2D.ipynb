{
 "cells": [
  {
   "cell_type": "markdown",
   "metadata": {},
   "source": [
    "# **/!\\ Before to read /!\\**\n",
    "\n",
    "You should read [PenNearNotebookOnto2D.ipynb](PenNearNotebookOnto2D.ipynb) before this one.\n",
    "\n",
    "# Ontology diagram\n",
    "\n",
    "![diagram](../Ontology/PenNotebookBottleInteraction.jpg)\n",
    "\n",
    "# Loading"
   ]
  },
  {
   "cell_type": "code",
   "execution_count": 1,
   "metadata": {},
   "outputs": [
    {
     "name": "stderr",
     "output_type": "stream",
     "text": [
      "* Owlready2 * Warning: optimized Cython parser module 'owlready2_optimized' is not available, defaulting to slower Python implementation\n"
     ]
    }
   ],
   "source": [
    "from PenNotebookBottleInteractionOnto2D import PenNotebookBottleInteractionOnto2D\n",
    "\n",
    "scenario = PenNotebookBottleInteractionOnto2D()\n",
    "scenario.LoadOnto(\"../Ontology/PenNotebookBottleInteraction.owl\")"
   ]
  },
  {
   "cell_type": "markdown",
   "metadata": {},
   "source": [
    "# Use of inheritance and *is_a* property\n",
    "\n",
    "By default, a child class own the *is_a* property wich return the list of mother classes."
   ]
  },
  {
   "cell_type": "code",
   "execution_count": 2,
   "metadata": {},
   "outputs": [
    {
     "name": "stdout",
     "output_type": "stream",
     "text": [
      "Pen inherits from [PenNotebookBottleInteraction.School]\n",
      "Notebook inherits from [PenNotebookBottleInteraction.School]\n",
      "Bottle inherits from [PenNotebookBottleInteraction.Lunch]\n"
     ]
    }
   ],
   "source": [
    "class_list = [\"Pen\", \"Notebook\", \"Bottle\"]\n",
    "\n",
    "for class_name in class_list:\n",
    "    \n",
    "    mother_classes = scenario.onto[class_name].is_a\n",
    "    print(class_name, \"inherits from\", mother_classes)"
   ]
  },
  {
   "cell_type": "markdown",
   "metadata": {},
   "source": [
    "This property is usefull because it helps to define compatibilities between objects. For example, if we want to know if Pen and Notebook are compatible (only first inheritance is compared here) :"
   ]
  },
  {
   "cell_type": "code",
   "execution_count": 3,
   "metadata": {},
   "outputs": [
    {
     "data": {
      "text/plain": [
       "True"
      ]
     },
     "execution_count": 3,
     "metadata": {},
     "output_type": "execute_result"
    }
   ],
   "source": [
    "scenario.onto[\"Pen\"].is_a[0] == scenario.onto[\"Notebook\"].is_a[0]"
   ]
  },
  {
   "cell_type": "code",
   "execution_count": 4,
   "metadata": {},
   "outputs": [
    {
     "data": {
      "text/plain": [
       "False"
      ]
     },
     "execution_count": 4,
     "metadata": {},
     "output_type": "execute_result"
    }
   ],
   "source": [
    "scenario.onto[\"Pen\"].is_a[0] == scenario.onto[\"Bottle\"].is_a[0]"
   ]
  },
  {
   "cell_type": "markdown",
   "metadata": {},
   "source": [
    "# Automatisation of process\n",
    "\n",
    "As now we could know from wich classes inherits a class, the goal is to check compatibility for detected objects near each other. To do that here is the new approach :\n",
    "\n",
    "```\n",
    "for each detected object inside the ontology\n",
    "    for each one of other detected objects inside the ontology\n",
    "        if objects are near each other\n",
    "            use is_a property to check mother class\n",
    "            indicate good compatibility if equals\n",
    "            else indicate bad compatibility\n",
    "```\n",
    "\n",
    "This is what is implemented in Action method in [PenNotebookBottleInteractionOnto2D.py at line 39](PenNearNotebookOnto2D.py#L39).\n"
   ]
  }
 ],
 "metadata": {
  "kernelspec": {
   "display_name": "tfgpu",
   "language": "python",
   "name": "tfgpu"
  },
  "language_info": {
   "codemirror_mode": {
    "name": "ipython",
    "version": 3
   },
   "file_extension": ".py",
   "mimetype": "text/x-python",
   "name": "python",
   "nbconvert_exporter": "python",
   "pygments_lexer": "ipython3",
   "version": "3.6.9"
  }
 },
 "nbformat": 4,
 "nbformat_minor": 4
}
