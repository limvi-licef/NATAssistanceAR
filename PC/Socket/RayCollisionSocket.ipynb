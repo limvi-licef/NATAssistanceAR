{
 "cells": [
  {
   "cell_type": "markdown",
   "metadata": {},
   "source": [
    "-------------------------\n",
    "### Author: Anthony Melin\n",
    "### Date: 2019 August 14\n",
    "-------------------------"
   ]
  },
  {
   "cell_type": "markdown",
   "metadata": {},
   "source": [
    "# Import"
   ]
  },
  {
   "cell_type": "code",
   "execution_count": null,
   "metadata": {},
   "outputs": [],
   "source": [
    "from RayCollisionSocket import RayCollisionSocket\n",
    "\n",
    "import cv2\n",
    "import numpy as np\n",
    "import sys"
   ]
  },
  {
   "cell_type": "markdown",
   "metadata": {},
   "source": [
    "# Built-in methods test"
   ]
  },
  {
   "cell_type": "code",
   "execution_count": null,
   "metadata": {},
   "outputs": [],
   "source": [
    "socket = RayCollisionSocket()\n",
    "\n",
    "# kind of array to send\n",
    "vec2 = np.asarray([\n",
    "    (0.5,0.5),\n",
    "    (0,0)\n",
    "])\n",
    "print(\"message built :\", socket.ToBytes(vec2), \"\\n\")\n",
    "\n",
    "# kind of received message\n",
    "vec3 = b\"0.5,0.5,0.5;0,0,0;\"\n",
    "print(\"message converted :\", socket.ToArray(vec3))"
   ]
  },
  {
   "cell_type": "markdown",
   "metadata": {},
   "source": [
    "# Server\n",
    "\n",
    "### Define host/port "
   ]
  },
  {
   "cell_type": "code",
   "execution_count": null,
   "metadata": {},
   "outputs": [],
   "source": [
    "_host = \"192.168.137.1\"\n",
    "_port = 9999"
   ]
  },
  {
   "cell_type": "markdown",
   "metadata": {},
   "source": [
    "### Define coordinates to send"
   ]
  },
  {
   "cell_type": "code",
   "execution_count": null,
   "metadata": {},
   "outputs": [],
   "source": [
    "_coords = np.asarray([(0.5,0.5)]) # center"
   ]
  },
  {
   "cell_type": "markdown",
   "metadata": {},
   "source": [
    "### Start server and wait connection"
   ]
  },
  {
   "cell_type": "code",
   "execution_count": null,
   "metadata": {},
   "outputs": [],
   "source": [
    "socket = RayCollisionSocket().Bind(_host, _port)\n",
    "connected = socket.WaitConnection()"
   ]
  },
  {
   "cell_type": "markdown",
   "metadata": {},
   "source": [
    "Exit if connection failed"
   ]
  },
  {
   "cell_type": "code",
   "execution_count": null,
   "metadata": {},
   "outputs": [],
   "source": [
    "if not connected:\n",
    "    sys.exit(0)\n",
    "\n",
    "print(\"Connected to {}\".format(socket.client))"
   ]
  },
  {
   "cell_type": "markdown",
   "metadata": {},
   "source": [
    "# Loops\n",
    "## Manual"
   ]
  },
  {
   "cell_type": "code",
   "execution_count": null,
   "metadata": {},
   "outputs": [],
   "source": [
    "while True:\n",
    "        \n",
    "    print(\"1 => Ask position\")\n",
    "    print(\"2 => Close connection and quit\")\n",
    "    choice = input()\n",
    "\n",
    "    if choice == \"1\":\n",
    "        positions = socket.AskPositions(_coords)\n",
    "        if len(positions) > 0: # control that coordinates are valid\n",
    "            print(\"received :\", positions)\n",
    "\n",
    "    elif choice == \"2\": break\n",
    "\n",
    "socket.Exit()\n",
    "socket.close()"
   ]
  },
  {
   "cell_type": "markdown",
   "metadata": {},
   "source": [
    "## Graphical"
   ]
  },
  {
   "cell_type": "code",
   "execution_count": null,
   "metadata": {},
   "outputs": [],
   "source": [
    "while True:\n",
    "\n",
    "    frame = np.zeros((200, 800)).astype(float)\n",
    "    \n",
    "    # ray collision test\n",
    "    positions = socket.AskPositions(_coords)\n",
    "    \n",
    "    # display\n",
    "    if len(positions) > 0:\n",
    "        vec = positions[0].astype(str)\n",
    "        text = \"x={} y={} z={}\".format(vec[0],vec[1],vec[2])\n",
    "        cv2.putText(frame, text, (0,30), cv2.FONT_HERSHEY_SIMPLEX, 1, (255,255,255), 1, cv2.LINE_AA)\n",
    "        \n",
    "    cv2.imshow(\"frame\", frame)\n",
    "    if cv2.waitKey(1) == ord('q'): break\n",
    "\n",
    "\n",
    "socket.Exit()\n",
    "socket.close()\n",
    "\n",
    "cv2.destroyAllWindows()"
   ]
  },
  {
   "cell_type": "code",
   "execution_count": null,
   "metadata": {},
   "outputs": [],
   "source": [
    "socket.Exit()\n",
    "socket.close()"
   ]
  }
 ],
 "metadata": {
  "kernelspec": {
   "display_name": "Python [conda env:tfgpu]",
   "language": "python",
   "name": "conda-env-tfgpu-py"
  },
  "language_info": {
   "codemirror_mode": {
    "name": "ipython",
    "version": 3
   },
   "file_extension": ".py",
   "mimetype": "text/x-python",
   "name": "python",
   "nbconvert_exporter": "python",
   "pygments_lexer": "ipython3",
   "version": "3.6.8"
  }
 },
 "nbformat": 4,
 "nbformat_minor": 2
}
