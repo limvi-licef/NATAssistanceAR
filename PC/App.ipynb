{
 "cells": [
  {
   "cell_type": "markdown",
   "metadata": {},
   "source": [
    "-------------------------\n",
    "### Author: Anthony Melin\n",
    "### Date: 2019 August 14\n",
    "-------------------------"
   ]
  },
  {
   "cell_type": "markdown",
   "metadata": {},
   "source": [
    "# Import"
   ]
  },
  {
   "cell_type": "code",
   "execution_count": null,
   "metadata": {},
   "outputs": [],
   "source": [
    "from Socket.CameraSocket import CameraSocket\n",
    "from Socket.RayCollisionSocket import RayCollisionSocket\n",
    "from Socket.AnnotationSocket import AnnotationSocket\n",
    "\n",
    "from Tensorflow.ObjectDetection import *\n",
    "from Tensorflow.ObjectDetector import ObjectDetector\n",
    "\n",
    "from Scenario.SimpleObjectDetection import SimpleObjectDetection\n",
    "\n",
    "import cv2\n",
    "import sys\n",
    "import numpy as np"
   ]
  },
  {
   "cell_type": "markdown",
   "metadata": {},
   "source": [
    "# Global variables\n",
    "## Model files and classes"
   ]
  },
  {
   "cell_type": "code",
   "execution_count": null,
   "metadata": {},
   "outputs": [],
   "source": [
    "MODEL_DIRECTORY = \"MODEL_DIRECTORY\"\n",
    "\n",
    "GRAPH = MODEL_DIRECTORY + \"/frozen_inference_graph.pb\"\n",
    "LABELS = MODEL_DIRECTORY + \"/labelmap.pbtxt\"\n",
    "NUM_CLASSES = 99"
   ]
  },
  {
   "cell_type": "markdown",
   "metadata": {},
   "source": [
    "## Host and port"
   ]
  },
  {
   "cell_type": "code",
   "execution_count": null,
   "metadata": {},
   "outputs": [],
   "source": [
    "HOST = \"192.168.137.1\"\n",
    "\n",
    "CAMERA_PORT = 9999\n",
    "COLLISION_PORT = 9998\n",
    "ANNOTATION_PORT = 9997"
   ]
  },
  {
   "cell_type": "markdown",
   "metadata": {},
   "source": [
    "## Scenario"
   ]
  },
  {
   "cell_type": "code",
   "execution_count": null,
   "metadata": {},
   "outputs": [],
   "source": [
    "scenario = SimpleObjectDetection()"
   ]
  },
  {
   "cell_type": "markdown",
   "metadata": {},
   "source": [
    "# Object detection configuration"
   ]
  },
  {
   "cell_type": "markdown",
   "metadata": {},
   "source": [
    "### Load model"
   ]
  },
  {
   "cell_type": "code",
   "execution_count": null,
   "metadata": {},
   "outputs": [],
   "source": [
    "category_index = load_categories(LABELS, NUM_CLASSES)\n",
    "sess, inputs, outputs = load_model(GRAPH)"
   ]
  },
  {
   "cell_type": "markdown",
   "metadata": {},
   "source": [
    "### Set frame detector"
   ]
  },
  {
   "cell_type": "code",
   "execution_count": null,
   "metadata": {},
   "outputs": [],
   "source": [
    "detector = ObjectDetector(sess, inputs, outputs, category_index)\n",
    "detector.SetThreshold(60)\n",
    "detector.draw = True"
   ]
  },
  {
   "cell_type": "markdown",
   "metadata": {},
   "source": [
    "# Define sockets and await connection\n",
    "\n",
    "### Camera\n",
    "\n",
    "Exit if connection failed"
   ]
  },
  {
   "cell_type": "code",
   "execution_count": null,
   "metadata": {},
   "outputs": [],
   "source": [
    "cameraSocket = CameraSocket().Bind(HOST, CAMERA_PORT)\n",
    "connected = cameraSocket.WaitConnection()\n",
    "if not connected:\n",
    "    cameraSocket.close()\n",
    "    sys.exit(0)"
   ]
  },
  {
   "cell_type": "markdown",
   "metadata": {},
   "source": [
    "### Ray collision\n",
    "\n",
    "Exit if connection failed"
   ]
  },
  {
   "cell_type": "code",
   "execution_count": null,
   "metadata": {},
   "outputs": [],
   "source": [
    "collisionSocket = RayCollisionSocket().Bind(HOST, COLLISION_PORT)\n",
    "connected = collisionSocket.WaitConnection()\n",
    "if not connected:\n",
    "    cameraSocket.close()\n",
    "    collisionSocket.close()\n",
    "    sys.exit(0)"
   ]
  },
  {
   "cell_type": "markdown",
   "metadata": {},
   "source": [
    "### Annotation\n",
    "\n",
    "Exit if connection failed"
   ]
  },
  {
   "cell_type": "code",
   "execution_count": null,
   "metadata": {},
   "outputs": [],
   "source": [
    "annotationSocket = AnnotationSocket().Bind(HOST, ANNOTATION_PORT)\n",
    "connected = annotationSocket.WaitConnection()\n",
    "if not connected:\n",
    "    cameraSocket.close()\n",
    "    collisionSocket.close()\n",
    "    annotationSocket.close()\n",
    "    sys.exit(0)"
   ]
  },
  {
   "cell_type": "markdown",
   "metadata": {},
   "source": [
    "# Loop"
   ]
  },
  {
   "cell_type": "code",
   "execution_count": null,
   "metadata": {},
   "outputs": [],
   "source": [
    "while True:\n",
    "\n",
    "    # frame\n",
    "    frame = cameraSocket.GetFrame()\n",
    "    \n",
    "    # detection\n",
    "    detected = detector.Detect(frame)\n",
    "\n",
    "    # ray collision test\n",
    "    positions = collisionSocket.AskPositions(detected[\"centers\"])\n",
    "    \n",
    "    # annotation\n",
    "    if len(positions) > 0 and len(positions) == len(detected[\"centers\"]):\n",
    "        detected[\"positions\"] = positions\n",
    "        scenario.Update(detected, annotationSocket)\n",
    "    \n",
    "    # display\n",
    "    cv2.imshow(\"frame\", frame)\n",
    "    if cv2.waitKey(1) == ord('q'): break\n",
    "\n",
    "\n",
    "cameraSocket.Exit()\n",
    "collisionSocket.Exit()\n",
    "annotationSocket.Exit()\n",
    "\n",
    "cameraSocket.close()\n",
    "collisionSocket.close()\n",
    "annotationSocket.close()\n",
    "\n",
    "cv2.destroyAllWindows()"
   ]
  },
  {
   "cell_type": "code",
   "execution_count": null,
   "metadata": {},
   "outputs": [],
   "source": [
    "cameraSocket.close()\n",
    "collisionSocket.close()\n",
    "annotationSocket.close()"
   ]
  }
 ],
 "metadata": {
  "kernelspec": {
   "display_name": "Python [conda env:tfgpu]",
   "language": "python",
   "name": "conda-env-tfgpu-py"
  },
  "language_info": {
   "codemirror_mode": {
    "name": "ipython",
    "version": 3
   },
   "file_extension": ".py",
   "mimetype": "text/x-python",
   "name": "python",
   "nbconvert_exporter": "python",
   "pygments_lexer": "ipython3",
   "version": "3.6.8"
  }
 },
 "nbformat": 4,
 "nbformat_minor": 2
}
